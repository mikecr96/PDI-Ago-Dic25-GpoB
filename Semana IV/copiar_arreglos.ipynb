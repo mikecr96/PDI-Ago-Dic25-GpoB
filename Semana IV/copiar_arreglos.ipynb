{
 "cells": [
  {
   "cell_type": "code",
   "execution_count": 1,
   "id": "d4e75e0d",
   "metadata": {},
   "outputs": [],
   "source": [
    "import numpy as np"
   ]
  },
  {
   "cell_type": "markdown",
   "id": "699b5c32",
   "metadata": {},
   "source": [
    "## Cómo realizar copias de arreglos numpy?"
   ]
  },
  {
   "cell_type": "code",
   "execution_count": 2,
   "id": "177e265a",
   "metadata": {},
   "outputs": [],
   "source": [
    "arreglo = np.array(range(10))"
   ]
  },
  {
   "cell_type": "code",
   "execution_count": 3,
   "id": "929034b3",
   "metadata": {},
   "outputs": [
    {
     "data": {
      "text/plain": [
       "array([0, 1, 2, 3, 4, 5, 6, 7, 8, 9])"
      ]
     },
     "execution_count": 3,
     "metadata": {},
     "output_type": "execute_result"
    }
   ],
   "source": [
    "arreglo"
   ]
  },
  {
   "cell_type": "code",
   "execution_count": 4,
   "id": "47410f02",
   "metadata": {},
   "outputs": [],
   "source": [
    "# Copiar arreglo\n",
    "arreglo2 = arreglo"
   ]
  },
  {
   "cell_type": "code",
   "execution_count": 5,
   "id": "5069c6ef",
   "metadata": {},
   "outputs": [
    {
     "data": {
      "text/plain": [
       "array([0, 1, 2, 3, 4, 5, 6, 7, 8, 9])"
      ]
     },
     "execution_count": 5,
     "metadata": {},
     "output_type": "execute_result"
    }
   ],
   "source": [
    "arreglo2"
   ]
  },
  {
   "cell_type": "code",
   "execution_count": 6,
   "id": "3dc360f4",
   "metadata": {},
   "outputs": [
    {
     "data": {
      "text/plain": [
       "array([100,   1,   2,   3,   4,   5,   6,   7,   8,   9])"
      ]
     },
     "execution_count": 6,
     "metadata": {},
     "output_type": "execute_result"
    }
   ],
   "source": [
    "arreglo[0] = 100\n",
    "arreglo"
   ]
  },
  {
   "cell_type": "code",
   "execution_count": 7,
   "id": "ba591234",
   "metadata": {},
   "outputs": [
    {
     "data": {
      "text/plain": [
       "array([100,   1,   2,   3,   4,   5,   6,   7,   8,   9])"
      ]
     },
     "execution_count": 7,
     "metadata": {},
     "output_type": "execute_result"
    }
   ],
   "source": [
    "arreglo2"
   ]
  },
  {
   "cell_type": "code",
   "execution_count": 8,
   "id": "61e1e4b8",
   "metadata": {},
   "outputs": [],
   "source": [
    "arreglo_original = np.array([1, 2, 3])\n",
    "arreglo_copia = arreglo_original.copy()\n",
    "arreglo_original[0] = 200"
   ]
  },
  {
   "cell_type": "code",
   "execution_count": 9,
   "id": "2afa07e5",
   "metadata": {},
   "outputs": [
    {
     "name": "stdout",
     "output_type": "stream",
     "text": [
      "[200   2   3]\n",
      "[1 2 3]\n"
     ]
    }
   ],
   "source": [
    "print(arreglo_original)\n",
    "print(arreglo_copia)"
   ]
  }
 ],
 "metadata": {
  "kernelspec": {
   "display_name": "opencv",
   "language": "python",
   "name": "python3"
  },
  "language_info": {
   "codemirror_mode": {
    "name": "ipython",
    "version": 3
   },
   "file_extension": ".py",
   "mimetype": "text/x-python",
   "name": "python",
   "nbconvert_exporter": "python",
   "pygments_lexer": "ipython3",
   "version": "3.13.5"
  }
 },
 "nbformat": 4,
 "nbformat_minor": 5
}
