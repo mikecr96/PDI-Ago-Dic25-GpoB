{
  "cells": [
    {
      "cell_type": "markdown",
      "metadata": {
        "id": "sLC-csLJ3Ic8"
      },
      "source": [
        "# Título\n",
        "Hola **mundo**. Saludos al grupo de *PDI*\n",
        "\n",
        "\n",
        "---\n",
        "\n",
        "⚾"
      ]
    },
    {
      "cell_type": "code",
      "execution_count": 19,
      "metadata": {
        "colab": {
          "base_uri": "https://localhost:8080/"
        },
        "id": "vGZOLz6W154W",
        "outputId": "e6e1c814-cfac-4ae0-88d6-0e1701a7e81c"
      },
      "outputs": [
        {
          "name": "stdout",
          "output_type": "stream",
          "text": [
            "Hola mundo\n"
          ]
        }
      ],
      "source": [
        "print(\"Hola mundo\")"
      ]
    },
    {
      "cell_type": "code",
      "execution_count": 20,
      "metadata": {
        "id": "0uO7sK2N3_B2"
      },
      "outputs": [],
      "source": [
        "numero = 100"
      ]
    },
    {
      "cell_type": "code",
      "execution_count": 21,
      "metadata": {
        "colab": {
          "base_uri": "https://localhost:8080/"
        },
        "id": "Ss8gYdNQ6WkQ",
        "outputId": "49bee266-3333-4707-da11-f379b6957cab"
      },
      "outputs": [
        {
          "name": "stdout",
          "output_type": "stream",
          "text": [
            "100\n"
          ]
        }
      ],
      "source": [
        "print(numero)"
      ]
    },
    {
      "cell_type": "code",
      "execution_count": 22,
      "metadata": {
        "id": "1y9IQmkq6hci"
      },
      "outputs": [],
      "source": [
        "entero = 10\n",
        "flotante = 3.14151926\n",
        "string = \"hola mundo\"\n",
        "booleano = True\n",
        "lista = [1, 1, 1, 1, 1, 1]"
      ]
    },
    {
      "cell_type": "code",
      "execution_count": 23,
      "metadata": {
        "colab": {
          "base_uri": "https://localhost:8080/"
        },
        "id": "5ez_CG008_Bh",
        "outputId": "9d80772d-ef78-4148-db71-680e09b81a20"
      },
      "outputs": [
        {
          "data": {
            "text/plain": [
              "int"
            ]
          },
          "execution_count": 23,
          "metadata": {},
          "output_type": "execute_result"
        }
      ],
      "source": [
        "type(entero)"
      ]
    },
    {
      "cell_type": "code",
      "execution_count": 24,
      "metadata": {
        "colab": {
          "base_uri": "https://localhost:8080/"
        },
        "id": "_fv78G9p9Ci6",
        "outputId": "743b9ab3-9a48-4555-e5c1-426f942740fc"
      },
      "outputs": [
        {
          "data": {
            "text/plain": [
              "float"
            ]
          },
          "execution_count": 24,
          "metadata": {},
          "output_type": "execute_result"
        }
      ],
      "source": [
        "type(flotante)"
      ]
    },
    {
      "cell_type": "code",
      "execution_count": 25,
      "metadata": {
        "colab": {
          "base_uri": "https://localhost:8080/"
        },
        "id": "q7Ma39Dt9FXC",
        "outputId": "dd4e1c48-dc9c-4616-cae6-004cbdc9850d"
      },
      "outputs": [
        {
          "data": {
            "text/plain": [
              "str"
            ]
          },
          "execution_count": 25,
          "metadata": {},
          "output_type": "execute_result"
        }
      ],
      "source": [
        "type(string)"
      ]
    },
    {
      "cell_type": "code",
      "execution_count": 26,
      "metadata": {
        "colab": {
          "base_uri": "https://localhost:8080/"
        },
        "id": "YBaXMeop9HeK",
        "outputId": "a065247c-b3ae-4937-ec45-9948c0cd8566"
      },
      "outputs": [
        {
          "data": {
            "text/plain": [
              "bool"
            ]
          },
          "execution_count": 26,
          "metadata": {},
          "output_type": "execute_result"
        }
      ],
      "source": [
        "type(booleano)"
      ]
    },
    {
      "cell_type": "code",
      "execution_count": 27,
      "metadata": {
        "colab": {
          "base_uri": "https://localhost:8080/"
        },
        "id": "6xx8jXwx9Jgp",
        "outputId": "8df179ea-339b-4b8a-eb74-b2c82f71f3ea"
      },
      "outputs": [
        {
          "data": {
            "text/plain": [
              "list"
            ]
          },
          "execution_count": 27,
          "metadata": {},
          "output_type": "execute_result"
        }
      ],
      "source": [
        "type(lista)"
      ]
    },
    {
      "cell_type": "code",
      "execution_count": 28,
      "metadata": {
        "colab": {
          "base_uri": "https://localhost:8080/"
        },
        "id": "8vfuFBCn9Kro",
        "outputId": "fe436545-483c-46ee-f054-de1ea0a18383"
      },
      "outputs": [
        {
          "name": "stdout",
          "output_type": "stream",
          "text": [
            "<class 'str'>\n",
            "<class 'int'>\n"
          ]
        }
      ],
      "source": [
        "# Conversión de tipo de dato (cast)\n",
        "numStr = \"100\"\n",
        "strToNum = int(\"100\")\n",
        "\n",
        "print(type(numStr))\n",
        "print(type(strToNum))"
      ]
    },
    {
      "cell_type": "code",
      "execution_count": 29,
      "metadata": {
        "colab": {
          "base_uri": "https://localhost:8080/",
          "height": 141
        },
        "id": "E2HAtUap9sLW",
        "outputId": "225859d2-2568-40cb-cf92-5c70d2b7da8d"
      },
      "outputs": [],
      "source": [
        "# int(\"Hola mundo\")"
      ]
    },
    {
      "cell_type": "code",
      "execution_count": 30,
      "metadata": {
        "colab": {
          "base_uri": "https://localhost:8080/"
        },
        "id": "uGpd8Qhm-EfR",
        "outputId": "2896afce-c188-4444-94e6-ae40c66d99aa"
      },
      "outputs": [
        {
          "data": {
            "text/plain": [
              "3"
            ]
          },
          "execution_count": 30,
          "metadata": {},
          "output_type": "execute_result"
        }
      ],
      "source": [
        "int(3.14151926)"
      ]
    },
    {
      "cell_type": "code",
      "execution_count": 31,
      "metadata": {
        "colab": {
          "base_uri": "https://localhost:8080/"
        },
        "id": "Lpg77mgV-K9m",
        "outputId": "c88b5d96-8c59-4396-e48d-43496a4a9092"
      },
      "outputs": [
        {
          "data": {
            "text/plain": [
              "3.0"
            ]
          },
          "execution_count": 31,
          "metadata": {},
          "output_type": "execute_result"
        }
      ],
      "source": [
        "float(3)"
      ]
    },
    {
      "cell_type": "code",
      "execution_count": 32,
      "metadata": {
        "colab": {
          "base_uri": "https://localhost:8080/"
        },
        "id": "nSvWf5De-Lzy",
        "outputId": "bd6e83b5-ac52-47db-a5cf-9af6cbc2aeda"
      },
      "outputs": [
        {
          "data": {
            "text/plain": [
              "['H', 'o', 'l', 'a', ' ', 'm', 'u', 'n', 'd', 'o']"
            ]
          },
          "execution_count": 32,
          "metadata": {},
          "output_type": "execute_result"
        }
      ],
      "source": [
        "list(\"Hola mundo\")"
      ]
    },
    {
      "cell_type": "code",
      "execution_count": 33,
      "metadata": {
        "colab": {
          "base_uri": "https://localhost:8080/",
          "height": 35
        },
        "id": "RqGvN-8r-SRn",
        "outputId": "951a36d5-aecc-4e5a-d345-4f8c87e797d3"
      },
      "outputs": [
        {
          "data": {
            "text/plain": [
              "'[1, 2, 3]'"
            ]
          },
          "execution_count": 33,
          "metadata": {},
          "output_type": "execute_result"
        }
      ],
      "source": [
        "str([1, 2, 3])"
      ]
    },
    {
      "cell_type": "code",
      "execution_count": 34,
      "metadata": {
        "colab": {
          "base_uri": "https://localhost:8080/"
        },
        "id": "9CeEhno8-WOz",
        "outputId": "58777d73-55c4-4f40-8718-13f124be91b9"
      },
      "outputs": [
        {
          "data": {
            "text/plain": [
              "False"
            ]
          },
          "execution_count": 34,
          "metadata": {},
          "output_type": "execute_result"
        }
      ],
      "source": [
        "bool(0)"
      ]
    },
    {
      "cell_type": "code",
      "execution_count": 35,
      "metadata": {
        "colab": {
          "base_uri": "https://localhost:8080/"
        },
        "id": "ZaCDTMN7-csB",
        "outputId": "9728295f-85c5-4634-cb92-50a8b1b4739b"
      },
      "outputs": [
        {
          "data": {
            "text/plain": [
              "True"
            ]
          },
          "execution_count": 35,
          "metadata": {},
          "output_type": "execute_result"
        }
      ],
      "source": [
        "bool(10000000000)"
      ]
    },
    {
      "cell_type": "code",
      "execution_count": 36,
      "metadata": {
        "colab": {
          "base_uri": "https://localhost:8080/"
        },
        "id": "NjFBWKRH-fHX",
        "outputId": "eb8235fa-3ae5-4b05-8697-1291c7069e17"
      },
      "outputs": [
        {
          "data": {
            "text/plain": [
              "(1, 2, 3)"
            ]
          },
          "execution_count": 36,
          "metadata": {},
          "output_type": "execute_result"
        }
      ],
      "source": [
        "tuple([1, 2, 3])"
      ]
    }
  ],
  "metadata": {
    "colab": {
      "provenance": []
    },
    "kernelspec": {
      "display_name": "Python 3",
      "name": "python3"
    },
    "language_info": {
      "codemirror_mode": {
        "name": "ipython",
        "version": 3
      },
      "file_extension": ".py",
      "mimetype": "text/x-python",
      "name": "python",
      "nbconvert_exporter": "python",
      "pygments_lexer": "ipython3",
      "version": "3.13.5"
    }
  },
  "nbformat": 4,
  "nbformat_minor": 0
}
