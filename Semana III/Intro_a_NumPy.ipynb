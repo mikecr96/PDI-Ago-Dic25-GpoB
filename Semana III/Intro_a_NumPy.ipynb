{
 "cells": [
  {
   "cell_type": "code",
   "execution_count": 1,
   "id": "90872023",
   "metadata": {},
   "outputs": [],
   "source": [
    "import numpy as np"
   ]
  },
  {
   "cell_type": "code",
   "execution_count": 2,
   "id": "00d108cb",
   "metadata": {},
   "outputs": [],
   "source": [
    "import math"
   ]
  },
  {
   "cell_type": "code",
   "execution_count": 3,
   "id": "44fb7f9a",
   "metadata": {},
   "outputs": [
    {
     "data": {
      "text/plain": [
       "0.0"
      ]
     },
     "execution_count": 3,
     "metadata": {},
     "output_type": "execute_result"
    }
   ],
   "source": [
    "math.sin(0)"
   ]
  },
  {
   "cell_type": "code",
   "execution_count": 7,
   "id": "7035ccca",
   "metadata": {},
   "outputs": [],
   "source": [
    "# ndarray - n-dimensional\n",
    "\n",
    "arreglo = np.array(range(10))"
   ]
  },
  {
   "cell_type": "code",
   "execution_count": 8,
   "id": "94fa9552",
   "metadata": {},
   "outputs": [
    {
     "data": {
      "text/plain": [
       "numpy.ndarray"
      ]
     },
     "execution_count": 8,
     "metadata": {},
     "output_type": "execute_result"
    }
   ],
   "source": [
    "type(arreglo)"
   ]
  },
  {
   "cell_type": "code",
   "execution_count": 9,
   "id": "575955cf",
   "metadata": {},
   "outputs": [
    {
     "data": {
      "text/plain": [
       "['T',\n",
       " '__abs__',\n",
       " '__add__',\n",
       " '__and__',\n",
       " '__array__',\n",
       " '__array_finalize__',\n",
       " '__array_function__',\n",
       " '__array_interface__',\n",
       " '__array_namespace__',\n",
       " '__array_priority__',\n",
       " '__array_struct__',\n",
       " '__array_ufunc__',\n",
       " '__array_wrap__',\n",
       " '__bool__',\n",
       " '__buffer__',\n",
       " '__class__',\n",
       " '__class_getitem__',\n",
       " '__complex__',\n",
       " '__contains__',\n",
       " '__copy__',\n",
       " '__deepcopy__',\n",
       " '__delattr__',\n",
       " '__delitem__',\n",
       " '__dir__',\n",
       " '__divmod__',\n",
       " '__dlpack__',\n",
       " '__dlpack_device__',\n",
       " '__doc__',\n",
       " '__eq__',\n",
       " '__float__',\n",
       " '__floordiv__',\n",
       " '__format__',\n",
       " '__ge__',\n",
       " '__getattribute__',\n",
       " '__getitem__',\n",
       " '__getstate__',\n",
       " '__gt__',\n",
       " '__hash__',\n",
       " '__iadd__',\n",
       " '__iand__',\n",
       " '__ifloordiv__',\n",
       " '__ilshift__',\n",
       " '__imatmul__',\n",
       " '__imod__',\n",
       " '__imul__',\n",
       " '__index__',\n",
       " '__init__',\n",
       " '__init_subclass__',\n",
       " '__int__',\n",
       " '__invert__',\n",
       " '__ior__',\n",
       " '__ipow__',\n",
       " '__irshift__',\n",
       " '__isub__',\n",
       " '__iter__',\n",
       " '__itruediv__',\n",
       " '__ixor__',\n",
       " '__le__',\n",
       " '__len__',\n",
       " '__lshift__',\n",
       " '__lt__',\n",
       " '__matmul__',\n",
       " '__mod__',\n",
       " '__mul__',\n",
       " '__ne__',\n",
       " '__neg__',\n",
       " '__new__',\n",
       " '__or__',\n",
       " '__pos__',\n",
       " '__pow__',\n",
       " '__radd__',\n",
       " '__rand__',\n",
       " '__rdivmod__',\n",
       " '__reduce__',\n",
       " '__reduce_ex__',\n",
       " '__repr__',\n",
       " '__rfloordiv__',\n",
       " '__rlshift__',\n",
       " '__rmatmul__',\n",
       " '__rmod__',\n",
       " '__rmul__',\n",
       " '__ror__',\n",
       " '__rpow__',\n",
       " '__rrshift__',\n",
       " '__rshift__',\n",
       " '__rsub__',\n",
       " '__rtruediv__',\n",
       " '__rxor__',\n",
       " '__setattr__',\n",
       " '__setitem__',\n",
       " '__setstate__',\n",
       " '__sizeof__',\n",
       " '__str__',\n",
       " '__sub__',\n",
       " '__subclasshook__',\n",
       " '__truediv__',\n",
       " '__xor__',\n",
       " 'all',\n",
       " 'any',\n",
       " 'argmax',\n",
       " 'argmin',\n",
       " 'argpartition',\n",
       " 'argsort',\n",
       " 'astype',\n",
       " 'base',\n",
       " 'byteswap',\n",
       " 'choose',\n",
       " 'clip',\n",
       " 'compress',\n",
       " 'conj',\n",
       " 'conjugate',\n",
       " 'copy',\n",
       " 'ctypes',\n",
       " 'cumprod',\n",
       " 'cumsum',\n",
       " 'data',\n",
       " 'device',\n",
       " 'diagonal',\n",
       " 'dot',\n",
       " 'dtype',\n",
       " 'dump',\n",
       " 'dumps',\n",
       " 'fill',\n",
       " 'flags',\n",
       " 'flat',\n",
       " 'flatten',\n",
       " 'getfield',\n",
       " 'imag',\n",
       " 'item',\n",
       " 'itemset',\n",
       " 'itemsize',\n",
       " 'mT',\n",
       " 'max',\n",
       " 'mean',\n",
       " 'min',\n",
       " 'nbytes',\n",
       " 'ndim',\n",
       " 'newbyteorder',\n",
       " 'nonzero',\n",
       " 'partition',\n",
       " 'prod',\n",
       " 'ptp',\n",
       " 'put',\n",
       " 'ravel',\n",
       " 'real',\n",
       " 'repeat',\n",
       " 'reshape',\n",
       " 'resize',\n",
       " 'round',\n",
       " 'searchsorted',\n",
       " 'setfield',\n",
       " 'setflags',\n",
       " 'shape',\n",
       " 'size',\n",
       " 'sort',\n",
       " 'squeeze',\n",
       " 'std',\n",
       " 'strides',\n",
       " 'sum',\n",
       " 'swapaxes',\n",
       " 'take',\n",
       " 'to_device',\n",
       " 'tobytes',\n",
       " 'tofile',\n",
       " 'tolist',\n",
       " 'tostring',\n",
       " 'trace',\n",
       " 'transpose',\n",
       " 'var',\n",
       " 'view']"
      ]
     },
     "execution_count": 9,
     "metadata": {},
     "output_type": "execute_result"
    }
   ],
   "source": [
    "dir(arreglo)"
   ]
  },
  {
   "cell_type": "code",
   "execution_count": 10,
   "id": "dc923c40",
   "metadata": {},
   "outputs": [
    {
     "data": {
      "text/plain": [
       "10"
      ]
     },
     "execution_count": 10,
     "metadata": {},
     "output_type": "execute_result"
    }
   ],
   "source": [
    "arreglo.size"
   ]
  },
  {
   "cell_type": "code",
   "execution_count": 11,
   "id": "f934648a",
   "metadata": {},
   "outputs": [
    {
     "data": {
      "text/plain": [
       "(10,)"
      ]
     },
     "execution_count": 11,
     "metadata": {},
     "output_type": "execute_result"
    }
   ],
   "source": [
    "arreglo.shape"
   ]
  },
  {
   "cell_type": "code",
   "execution_count": 12,
   "id": "5f3ee1eb",
   "metadata": {},
   "outputs": [
    {
     "data": {
      "text/plain": [
       "dtype('int64')"
      ]
     },
     "execution_count": 12,
     "metadata": {},
     "output_type": "execute_result"
    }
   ],
   "source": [
    "arreglo.dtype"
   ]
  },
  {
   "cell_type": "code",
   "execution_count": 15,
   "id": "e3c96627",
   "metadata": {},
   "outputs": [],
   "source": [
    "lista = [1, 1.1, True, \"\"]"
   ]
  },
  {
   "cell_type": "code",
   "execution_count": 16,
   "id": "8e3ff564",
   "metadata": {},
   "outputs": [
    {
     "data": {
      "text/plain": [
       "array(['1', '1.1', 'True', ''], dtype='<U32')"
      ]
     },
     "execution_count": 16,
     "metadata": {},
     "output_type": "execute_result"
    }
   ],
   "source": [
    "np.array(lista)"
   ]
  },
  {
   "cell_type": "code",
   "execution_count": 17,
   "id": "b0bcc178",
   "metadata": {},
   "outputs": [],
   "source": [
    "matriz_python = [\n",
    "    [1, 2, 3],\n",
    "    [4, 5, 6],\n",
    "    [7, 8, 9]\n",
    "]"
   ]
  },
  {
   "cell_type": "code",
   "execution_count": 18,
   "id": "7fb51ffa",
   "metadata": {},
   "outputs": [
    {
     "data": {
      "text/plain": [
       "list"
      ]
     },
     "execution_count": 18,
     "metadata": {},
     "output_type": "execute_result"
    }
   ],
   "source": [
    "type(matriz_python)"
   ]
  },
  {
   "cell_type": "code",
   "execution_count": 22,
   "id": "96d7769b",
   "metadata": {},
   "outputs": [
    {
     "data": {
      "text/plain": [
       "1"
      ]
     },
     "execution_count": 22,
     "metadata": {},
     "output_type": "execute_result"
    }
   ],
   "source": [
    "matriz_python[0][0]"
   ]
  },
  {
   "cell_type": "code",
   "execution_count": 23,
   "id": "2cf39327",
   "metadata": {},
   "outputs": [],
   "source": [
    "matriz_numpy = np.array(matriz_python)"
   ]
  },
  {
   "cell_type": "code",
   "execution_count": 24,
   "id": "eb03bf3c",
   "metadata": {},
   "outputs": [
    {
     "data": {
      "text/plain": [
       "numpy.ndarray"
      ]
     },
     "execution_count": 24,
     "metadata": {},
     "output_type": "execute_result"
    }
   ],
   "source": [
    "type(matriz_numpy)"
   ]
  },
  {
   "cell_type": "code",
   "execution_count": 25,
   "id": "a6d78870",
   "metadata": {},
   "outputs": [
    {
     "data": {
      "text/plain": [
       "dtype('int64')"
      ]
     },
     "execution_count": 25,
     "metadata": {},
     "output_type": "execute_result"
    }
   ],
   "source": [
    "matriz_numpy.dtype"
   ]
  },
  {
   "cell_type": "code",
   "execution_count": 26,
   "id": "166bd80b",
   "metadata": {},
   "outputs": [
    {
     "data": {
      "text/plain": [
       "(3, 3)"
      ]
     },
     "execution_count": 26,
     "metadata": {},
     "output_type": "execute_result"
    }
   ],
   "source": [
    "matriz_numpy.shape"
   ]
  },
  {
   "cell_type": "code",
   "execution_count": 27,
   "id": "523e25f6",
   "metadata": {},
   "outputs": [
    {
     "data": {
      "text/plain": [
       "array([[1, 2, 3],\n",
       "       [4, 5, 6],\n",
       "       [7, 8, 9]])"
      ]
     },
     "execution_count": 27,
     "metadata": {},
     "output_type": "execute_result"
    }
   ],
   "source": [
    "matriz_numpy"
   ]
  },
  {
   "cell_type": "code",
   "execution_count": 31,
   "id": "b658fcd9",
   "metadata": {},
   "outputs": [
    {
     "data": {
      "text/plain": [
       "1"
      ]
     },
     "execution_count": 31,
     "metadata": {},
     "output_type": "execute_result"
    }
   ],
   "source": [
    "# Matrices son Fi-Co\n",
    "matriz_numpy[0, 0].item()"
   ]
  },
  {
   "cell_type": "code",
   "execution_count": 32,
   "id": "cf513361",
   "metadata": {},
   "outputs": [
    {
     "data": {
      "text/plain": [
       "int"
      ]
     },
     "execution_count": 32,
     "metadata": {},
     "output_type": "execute_result"
    }
   ],
   "source": [
    "type(matriz_numpy[0, 0].item())"
   ]
  },
  {
   "cell_type": "code",
   "execution_count": 37,
   "id": "27a04a4b",
   "metadata": {},
   "outputs": [
    {
     "data": {
      "text/plain": [
       "0.8116468834735167"
      ]
     },
     "execution_count": 37,
     "metadata": {},
     "output_type": "execute_result"
    }
   ],
   "source": [
    "np.random.random()"
   ]
  },
  {
   "cell_type": "code",
   "execution_count": 51,
   "id": "86fb73e5",
   "metadata": {},
   "outputs": [
    {
     "data": {
      "text/plain": [
       "array([[ 4, 60, 26,  0, 64, 48, 30, 96, 44, 66],\n",
       "       [39, 32, 14, 54, 54, 50, 48, 64, 95, 61],\n",
       "       [72, 50, 76, 57, 28,  9, 79,  5, 41, 83],\n",
       "       [98, 40, 60, 16, 41, 70, 23, 98, 67,  5],\n",
       "       [71, 45, 15, 12, 85, 82, 29, 54, 33, 55],\n",
       "       [94,  6,  2, 79, 50,  6, 71, 10, 32, 20],\n",
       "       [65, 36, 34,  1,  0, 82, 42, 34, 68, 82],\n",
       "       [86, 37, 53, 71,  1, 11, 37, 62, 89, 74],\n",
       "       [63, 38, 95, 44, 67, 38, 37, 96, 44,  5],\n",
       "       [81, 56, 18, 75, 43,  7, 38,  5, 15, 34]])"
      ]
     },
     "execution_count": 51,
     "metadata": {},
     "output_type": "execute_result"
    }
   ],
   "source": [
    "np.random.randint(101, size=(10,10))"
   ]
  },
  {
   "cell_type": "code",
   "execution_count": 52,
   "id": "1ae44a6f",
   "metadata": {},
   "outputs": [],
   "source": [
    "np.random.seed(96)"
   ]
  },
  {
   "cell_type": "code",
   "execution_count": 53,
   "id": "1719a496",
   "metadata": {},
   "outputs": [
    {
     "data": {
      "text/plain": [
       "array([[ 84,  90,  38,  97,  97,  66,  54,  61,   6,  73],\n",
       "       [ 62,   2,  90,  81,  61,   3,  60,  33,  97,  26],\n",
       "       [ 79,  58,  24,  20,  61,  21,  76,   8,  65,  14],\n",
       "       [ 10,  58,  20,  23,   8,  85,  21,   6,  84,  18],\n",
       "       [ 89,  69,  67, 100,  95,  79,  61,  50,  57,  56],\n",
       "       [ 35,  46,   7,  37,  38,  56, 100,  29,  75,  25],\n",
       "       [ 90,  95,  34,  95,  45,  45,  24,  83,  25,  39],\n",
       "       [ 66,  69,  44,  61,  61,  55,  65,   4,  18,  98],\n",
       "       [ 78,  29,  82,  11,  74,  19,  77,  73,  60,  55],\n",
       "       [ 80,   1,  58,  94,  60,  76,  64,  89,  20,   8]])"
      ]
     },
     "execution_count": 53,
     "metadata": {},
     "output_type": "execute_result"
    }
   ],
   "source": [
    "np.random.randint(101, size=(10,10))"
   ]
  },
  {
   "cell_type": "code",
   "execution_count": 54,
   "id": "9af40844",
   "metadata": {},
   "outputs": [
    {
     "data": {
      "text/plain": [
       "array([[ 88,  12,   0,  42,   9,  18,  22,  46,  40,  39],\n",
       "       [ 88,  87,  47,  50,  47,   7,  16,  59,  73,  41],\n",
       "       [ 17,  70,  91,  21,  77,  43,  25,  21,  72,  24],\n",
       "       [ 40,  99,  54,  78,  68,  91,   1,  46,  30,  50],\n",
       "       [ 67,  68,   9, 100,  22,  98,  81,   2,  80,  17],\n",
       "       [ 84,  67,  41,  96,  92,  37,  43,  91,  13,  69],\n",
       "       [ 21,  72,  60,  21,  49,  41,  62,  85,   3,  61],\n",
       "       [ 88,  84,  24,  21,  93,  84,  40,  65,  55,  89],\n",
       "       [ 13,  46,  24,  17,  28,  68,  28,  20,  56,   4],\n",
       "       [ 95,  34,  53,  20,  55,  93,  41,  60,  93,  21]])"
      ]
     },
     "execution_count": 54,
     "metadata": {},
     "output_type": "execute_result"
    }
   ],
   "source": [
    "np.random.randint(101, size=(10,10))"
   ]
  },
  {
   "cell_type": "code",
   "execution_count": 55,
   "id": "b3d765bc",
   "metadata": {},
   "outputs": [],
   "source": [
    "matriz_10x10 = np.random.randint(101, size=(10,10))"
   ]
  },
  {
   "cell_type": "code",
   "execution_count": 56,
   "id": "845496cf",
   "metadata": {},
   "outputs": [
    {
     "data": {
      "text/plain": [
       "100"
      ]
     },
     "execution_count": 56,
     "metadata": {},
     "output_type": "execute_result"
    }
   ],
   "source": [
    "matriz_10x10.size"
   ]
  },
  {
   "cell_type": "code",
   "execution_count": 57,
   "id": "9c9794f7",
   "metadata": {},
   "outputs": [
    {
     "data": {
      "text/plain": [
       "(10, 10)"
      ]
     },
     "execution_count": 57,
     "metadata": {},
     "output_type": "execute_result"
    }
   ],
   "source": [
    "matriz_10x10.shape"
   ]
  },
  {
   "cell_type": "code",
   "execution_count": 58,
   "id": "2e5c62e8",
   "metadata": {},
   "outputs": [
    {
     "data": {
      "text/plain": [
       "array([[ 27,  12,  51,  34,  75,   3,  45,  88,  13,  35],\n",
       "       [ 26,  12,  27,  92,  89,  75,  48,  68,  76,  65],\n",
       "       [ 91,  28,  41,  47,  24,  14,  33,  75,  27,  24],\n",
       "       [ 27,  33,  35,  29,  16,  81,  15,  69,  39,  72],\n",
       "       [ 25,  32,  56,  88,  18,  56,  18,  63,  87,  17],\n",
       "       [ 24,  70,  96, 100,  62,  94,  48,  64,  91,  57],\n",
       "       [ 15,  63,  32,  30,   3,  37,  52,  61,  74,  38],\n",
       "       [ 43,  18,  68,  95,  13,  54,  47,  33,  15,  78],\n",
       "       [ 85,   9,  59,  55,  73,  57,   5,  46,  24,  86],\n",
       "       [ 39,  67,   9,  62,  40,   9,  54,  58, 100,  57]])"
      ]
     },
     "execution_count": 58,
     "metadata": {},
     "output_type": "execute_result"
    }
   ],
   "source": [
    "matriz_10x10"
   ]
  },
  {
   "cell_type": "code",
   "execution_count": 59,
   "id": "1daa0409",
   "metadata": {},
   "outputs": [
    {
     "data": {
      "text/plain": [
       "np.int64(41)"
      ]
     },
     "execution_count": 59,
     "metadata": {},
     "output_type": "execute_result"
    }
   ],
   "source": [
    "matriz_10x10[2, 2]"
   ]
  },
  {
   "cell_type": "code",
   "execution_count": 60,
   "id": "fad4331e",
   "metadata": {},
   "outputs": [
    {
     "data": {
      "text/plain": [
       "array([[ 85,   9,  59,  55,  73,  57,   5,  46,  24,  86],\n",
       "       [ 39,  67,   9,  62,  40,   9,  54,  58, 100,  57]])"
      ]
     },
     "execution_count": 60,
     "metadata": {},
     "output_type": "execute_result"
    }
   ],
   "source": [
    "matriz_10x10[8:]"
   ]
  },
  {
   "cell_type": "code",
   "execution_count": 62,
   "id": "cc64cd9c",
   "metadata": {},
   "outputs": [
    {
     "data": {
      "text/plain": [
       "array([[55, 73, 57],\n",
       "       [62, 40,  9]])"
      ]
     },
     "execution_count": 62,
     "metadata": {},
     "output_type": "execute_result"
    }
   ],
   "source": [
    "matriz_10x10[8:, 3:6]"
   ]
  },
  {
   "cell_type": "code",
   "execution_count": 64,
   "id": "6dabeb09",
   "metadata": {},
   "outputs": [],
   "source": [
    "matriz_5x5 = np.random.randint(21, size=(5,5))"
   ]
  },
  {
   "cell_type": "code",
   "execution_count": 65,
   "id": "3390535c",
   "metadata": {},
   "outputs": [
    {
     "data": {
      "text/plain": [
       "array([[11, 14,  8, 10,  2],\n",
       "       [ 0,  6,  3, 18, 20],\n",
       "       [ 9,  9, 20,  2, 12],\n",
       "       [13, 17, 16,  6,  8],\n",
       "       [17, 15, 14, 17,  0]])"
      ]
     },
     "execution_count": 65,
     "metadata": {},
     "output_type": "execute_result"
    }
   ],
   "source": [
    "matriz_5x5"
   ]
  },
  {
   "cell_type": "code",
   "execution_count": 66,
   "id": "ab0dc9cd",
   "metadata": {},
   "outputs": [
    {
     "data": {
      "text/plain": [
       "array([[16, 19, 13, 15,  7],\n",
       "       [ 5, 11,  8, 23, 25],\n",
       "       [14, 14, 25,  7, 17],\n",
       "       [18, 22, 21, 11, 13],\n",
       "       [22, 20, 19, 22,  5]])"
      ]
     },
     "execution_count": 66,
     "metadata": {},
     "output_type": "execute_result"
    }
   ],
   "source": [
    "matriz_5x5 + 5"
   ]
  },
  {
   "cell_type": "code",
   "execution_count": 67,
   "id": "f6ffd09e",
   "metadata": {},
   "outputs": [
    {
     "data": {
      "text/plain": [
       "array([[22, 28, 16, 20,  4],\n",
       "       [ 0, 12,  6, 36, 40],\n",
       "       [18, 18, 40,  4, 24],\n",
       "       [26, 34, 32, 12, 16],\n",
       "       [34, 30, 28, 34,  0]])"
      ]
     },
     "execution_count": 67,
     "metadata": {},
     "output_type": "execute_result"
    }
   ],
   "source": [
    "matriz_5x5 + matriz_5x5"
   ]
  },
  {
   "cell_type": "code",
   "execution_count": 70,
   "id": "09eb8dc9",
   "metadata": {},
   "outputs": [],
   "source": [
    "# matriz_5x5 // matriz_5x5"
   ]
  },
  {
   "cell_type": "code",
   "execution_count": 72,
   "id": "0a1cfd33",
   "metadata": {},
   "outputs": [
    {
     "data": {
      "text/plain": [
       "array([[11, 14,  8, 10,  2],\n",
       "       [ 0,  6,  3, 18, 20],\n",
       "       [ 9,  9, 20,  2, 12],\n",
       "       [13, 17, 16,  6,  8],\n",
       "       [17, 15, 14, 17,  0]])"
      ]
     },
     "execution_count": 72,
     "metadata": {},
     "output_type": "execute_result"
    }
   ],
   "source": [
    "matriz_5x5"
   ]
  },
  {
   "cell_type": "code",
   "execution_count": null,
   "id": "0a8e6129",
   "metadata": {},
   "outputs": [
    {
     "data": {
      "text/plain": [
       "array([[121, 196,  64, 100,   4],\n",
       "       [  0,  36,   9, 324, 400],\n",
       "       [ 81,  81, 400,   4, 144],\n",
       "       [169, 289, 256,  36,  64],\n",
       "       [289, 225, 196, 289,   0]])"
      ]
     },
     "execution_count": 71,
     "metadata": {},
     "output_type": "execute_result"
    }
   ],
   "source": [
    "matriz_5x5 * matriz_5x5 # element-wise"
   ]
  },
  {
   "cell_type": "code",
   "execution_count": 73,
   "id": "71d12b7a",
   "metadata": {},
   "outputs": [
    {
     "data": {
      "text/plain": [
       "array([[357, 510, 478, 472, 478],\n",
       "       [601, 669, 646, 562, 300],\n",
       "       [509, 574, 699, 508, 454],\n",
       "       [501, 650, 683, 640, 606],\n",
       "       [534, 743, 733, 570, 638]])"
      ]
     },
     "execution_count": 73,
     "metadata": {},
     "output_type": "execute_result"
    }
   ],
   "source": [
    "matriz_5x5 @ matriz_5x5 # multiplicación matricial"
   ]
  },
  {
   "cell_type": "code",
   "execution_count": 74,
   "id": "f1af2926",
   "metadata": {},
   "outputs": [
    {
     "data": {
      "text/plain": [
       "array([[-0.99999021,  0.99060736,  0.98935825, -0.54402111,  0.90929743],\n",
       "       [ 0.        , -0.2794155 ,  0.14112001, -0.75098725,  0.91294525],\n",
       "       [ 0.41211849,  0.41211849,  0.91294525,  0.90929743, -0.53657292],\n",
       "       [ 0.42016704, -0.96139749, -0.28790332, -0.2794155 ,  0.98935825],\n",
       "       [-0.96139749,  0.65028784,  0.99060736, -0.96139749,  0.        ]])"
      ]
     },
     "execution_count": 74,
     "metadata": {},
     "output_type": "execute_result"
    }
   ],
   "source": [
    "np.sin(matriz_5x5)"
   ]
  },
  {
   "cell_type": "code",
   "execution_count": 75,
   "id": "c165c019",
   "metadata": {},
   "outputs": [
    {
     "data": {
      "text/plain": [
       "array([[1.        , 1.        , 0.99999977, 1.        , 0.96402758],\n",
       "       [0.        , 0.99998771, 0.99505475, 1.        , 1.        ],\n",
       "       [0.99999997, 0.99999997, 1.        , 0.96402758, 1.        ],\n",
       "       [1.        , 1.        , 1.        , 0.99998771, 0.99999977],\n",
       "       [1.        , 1.        , 1.        , 1.        , 0.        ]])"
      ]
     },
     "execution_count": 75,
     "metadata": {},
     "output_type": "execute_result"
    }
   ],
   "source": [
    "np.tanh(matriz_5x5)"
   ]
  },
  {
   "cell_type": "code",
   "execution_count": 76,
   "id": "ace855cf",
   "metadata": {},
   "outputs": [
    {
     "data": {
      "text/plain": [
       "array([[3.31662479, 3.74165739, 2.82842712, 3.16227766, 1.41421356],\n",
       "       [0.        , 2.44948974, 1.73205081, 4.24264069, 4.47213595],\n",
       "       [3.        , 3.        , 4.47213595, 1.41421356, 3.46410162],\n",
       "       [3.60555128, 4.12310563, 4.        , 2.44948974, 2.82842712],\n",
       "       [4.12310563, 3.87298335, 3.74165739, 4.12310563, 0.        ]])"
      ]
     },
     "execution_count": 76,
     "metadata": {},
     "output_type": "execute_result"
    }
   ],
   "source": [
    "np.sqrt(matriz_5x5)"
   ]
  },
  {
   "cell_type": "code",
   "execution_count": 77,
   "id": "b0ab2b0a",
   "metadata": {},
   "outputs": [
    {
     "data": {
      "text/plain": [
       "array([[1331, 2744,  512, 1000,    8],\n",
       "       [   0,  216,   27, 5832, 8000],\n",
       "       [ 729,  729, 8000,    8, 1728],\n",
       "       [2197, 4913, 4096,  216,  512],\n",
       "       [4913, 3375, 2744, 4913,    0]])"
      ]
     },
     "execution_count": 77,
     "metadata": {},
     "output_type": "execute_result"
    }
   ],
   "source": [
    "matriz_5x5 ** 3"
   ]
  },
  {
   "cell_type": "code",
   "execution_count": 78,
   "id": "ba45e37b",
   "metadata": {},
   "outputs": [
    {
     "data": {
      "text/plain": [
       "array([[1331, 2744,  512, 1000,    8],\n",
       "       [   0,  216,   27, 5832, 8000],\n",
       "       [ 729,  729, 8000,    8, 1728],\n",
       "       [2197, 4913, 4096,  216,  512],\n",
       "       [4913, 3375, 2744, 4913,    0]])"
      ]
     },
     "execution_count": 78,
     "metadata": {},
     "output_type": "execute_result"
    }
   ],
   "source": [
    "np.power(matriz_5x5, 3)"
   ]
  },
  {
   "cell_type": "code",
   "execution_count": null,
   "id": "c1a066e2",
   "metadata": {},
   "outputs": [],
   "source": []
  }
 ],
 "metadata": {
  "kernelspec": {
   "display_name": "opencv",
   "language": "python",
   "name": "python3"
  },
  "language_info": {
   "codemirror_mode": {
    "name": "ipython",
    "version": 3
   },
   "file_extension": ".py",
   "mimetype": "text/x-python",
   "name": "python",
   "nbconvert_exporter": "python",
   "pygments_lexer": "ipython3",
   "version": "3.13.5"
  }
 },
 "nbformat": 4,
 "nbformat_minor": 5
}
